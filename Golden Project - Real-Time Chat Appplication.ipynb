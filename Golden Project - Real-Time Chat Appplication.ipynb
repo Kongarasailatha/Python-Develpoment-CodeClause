{
 "cells": [
  {
   "cell_type": "markdown",
   "id": "180c35a8",
   "metadata": {},
   "source": [
    "# Chat Bot For CodeClause By Using Python\n"
   ]
  },
  {
   "cell_type": "code",
   "execution_count": null,
   "id": "1d961a61",
   "metadata": {},
   "outputs": [
    {
     "name": "stdout",
     "output_type": "stream",
     "text": [
      "!!! Welcome to codeclause!!!\n",
      "Chatbot: Hi there! How can I help you with codeclause today\n"
     ]
    }
   ],
   "source": [
    "import random\n",
    "greetings = [\"Hello!Welcome to Codeclause.How can I assist you?\",\"Hi there! How can I help you with codeclause today\"]\n",
    "farewell=[\"Thank You for reaching to Codeclause.How great day!\",\"Goodbye! feel freee to contact us anything\"]\n",
    "options={\"hi\":\"hii\",\n",
    "        \"how are you\":\"I am fine Hoping you good\",\n",
    "       \"What is you name\":\"My name is chatbot\",\n",
    "       \"can you help me\": \"yeah Iam here to Help you\",\n",
    "        \"Iam not able to apply for Internship\": \"please go to www.CodeClause website and then you apply\",\n",
    "       \"CodeClause\":\"CodeClause is a businees startup that provides innovative solutions for companies\",\n",
    "       \"services\":\"CodeClause offers a widerange of services including software development, web desgin, data analysis\",\n",
    "       \"contact\":\"you get in touch with codeclause by visiting our website at www.CodeClause.com or emailing us\",}\n",
    "def chatbot():\n",
    "    \n",
    "    print(\"Chatbot: \"+ random.choice(greetings))\n",
    "    while True:\n",
    "        user_input=input(\"You: \")\n",
    "        if user_input.lower() == \"exit\": \n",
    "            print(\"chatbot: \"+ random.choice(farewell))\n",
    "            break\n",
    "        if user_input in options:\n",
    "            print(\"Chatbot: \"+ options[user_input])\n",
    "        else:\n",
    "            print(\"Chatbot: I'm sorry,I don't have the information you're loading for. can I help you with anything\")\n",
    "print(\"!!! Welcome to codeclause!!!\")\n",
    "chatbot()"
   ]
  },
  {
   "cell_type": "code",
   "execution_count": null,
   "id": "66be80ac",
   "metadata": {},
   "outputs": [],
   "source": []
  }
 ],
 "metadata": {
  "kernelspec": {
   "display_name": "Python 3 (ipykernel)",
   "language": "python",
   "name": "python3"
  },
  "language_info": {
   "codemirror_mode": {
    "name": "ipython",
    "version": 3
   },
   "file_extension": ".py",
   "mimetype": "text/x-python",
   "name": "python",
   "nbconvert_exporter": "python",
   "pygments_lexer": "ipython3",
   "version": "3.11.5"
  }
 },
 "nbformat": 4,
 "nbformat_minor": 5
}
