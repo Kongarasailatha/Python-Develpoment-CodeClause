{
 "cells": [
  {
   "cell_type": "markdown",
   "id": "2f84fe03",
   "metadata": {},
   "source": [
    "URL shortener that takes a long URL as input and generates a shortened version."
   ]
  },
  {
   "cell_type": "code",
   "execution_count": null,
   "id": "75af7517",
   "metadata": {},
   "outputs": [],
   "source": [
    "import pyshorteners\n",
    "def short_url(url):\n",
    "    shortener = pyshorteners.Shortener()\n",
    "    a=shortener.tinyurl.short(url)\n",
    "    return a\n",
    "url_data=input(\"Enter a long url to make it short: \")\n",
    "print(\"Shortened URL: \",short_url(url_data))\n"
   ]
  },
  {
   "cell_type": "code",
   "execution_count": null,
   "id": "f8bd1a10",
   "metadata": {},
   "outputs": [],
   "source": []
  }
 ],
 "metadata": {
  "kernelspec": {
   "display_name": "Python 3 (ipykernel)",
   "language": "python",
   "name": "python3"
  },
  "language_info": {
   "codemirror_mode": {
    "name": "ipython",
    "version": 3
   },
   "file_extension": ".py",
   "mimetype": "text/x-python",
   "name": "python",
   "nbconvert_exporter": "python",
   "pygments_lexer": "ipython3",
   "version": "3.11.5"
  }
 },
 "nbformat": 4,
 "nbformat_minor": 5
}
